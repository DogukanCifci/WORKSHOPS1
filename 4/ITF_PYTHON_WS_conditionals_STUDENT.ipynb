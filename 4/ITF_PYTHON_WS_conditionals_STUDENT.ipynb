{
 "cells": [
  {
   "cell_type": "markdown",
   "metadata": {},
   "source": [
    "<p>Considering the code below, write code that prints out <strong>True!</strong> if <strong>x </strong>has 50 characters or more.</p>"
   ]
  },
  {
   "cell_type": "code",
   "execution_count": 53,
   "metadata": {},
   "outputs": [
    {
     "name": "stdout",
     "output_type": "stream",
     "text": [
      "True\n"
     ]
    }
   ],
   "source": [
    "x = \"The days of Python 2 are almost over. Python 3 is the king now.\"\n",
    "\n",
    "uzunluk = len(x)\n",
    "if uzunluk >= 50 : \n",
    "    print(True)\n"
   ]
  },
  {
   "cell_type": "markdown",
   "metadata": {},
   "source": [
    "<p>Considering the code below, write code that prints out <strong>True!</strong> if <strong>x </strong>is a string and the first character in the string is <strong>T</strong>.</p>"
   ]
  },
  {
   "cell_type": "code",
   "execution_count": 54,
   "metadata": {},
   "outputs": [
    {
     "name": "stdout",
     "output_type": "stream",
     "text": [
      "True\n"
     ]
    }
   ],
   "source": [
    "x = \"The days of Python 2 are almost over. Python 3 is the king now.\"\n",
    "\n",
    "if x.startswith('T') and type(x) == str :\n",
    "    print('True')\n",
    "\n"
   ]
  },
  {
   "cell_type": "markdown",
   "metadata": {},
   "source": [
    "<p>Considering the code below, write code that prints out <strong>True!</strong> if at least one of the following conditions occurs: </p>\n",
    "<p>the string contains the character <strong>z </strong></p>\n",
    "<p>the string contains the character <strong>y </strong>at least twice</p>"
   ]
  },
  {
   "cell_type": "code",
   "execution_count": 55,
   "metadata": {},
   "outputs": [
    {
     "name": "stdout",
     "output_type": "stream",
     "text": [
      "False\n"
     ]
    }
   ],
   "source": [
    "x = \"The days of Python 2 are almost over. Python 3 is the king now.\"\n",
    "\n",
    "sayi_z = x.count('z')\n",
    "sayi_y = x.count('y')\n",
    "\n",
    "if 'z' in x and sayi_y >= 2 :\n",
    "    print('True')\n",
    "else :\n",
    "    print('False')"
   ]
  },
  {
   "cell_type": "markdown",
   "metadata": {},
   "source": [
    "<p>Considering the code below, write code that prints out <strong>True!</strong> if the index of the first occurrence of letter <strong>f </strong>is less than 10 and prints out <strong>False!</strong> if the same condition is not satisfied.</p>"
   ]
  },
  {
   "cell_type": "code",
   "execution_count": 56,
   "metadata": {},
   "outputs": [
    {
     "name": "stdout",
     "output_type": "stream",
     "text": [
      "False\n"
     ]
    }
   ],
   "source": [
    "x = \"The days of Python 2 are almost over. Python 3 is the king now.\"\n",
    "konum_f = x.index('f')\n",
    "\n",
    "if konum_f < 10 :\n",
    "    print('True')\n",
    "else : \n",
    "    print('False')"
   ]
  },
  {
   "cell_type": "markdown",
   "metadata": {},
   "source": [
    "<p>Considering the code below, write code that prints out <strong>True!</strong> if the last 3 characters of the string are all digits and prints out <strong>False!</strong> otherwise.</p>\n",
    "<em> Use the appropriate method to check if the requested string slice contains digits only.</em>"
   ]
  },
  {
   "cell_type": "code",
   "execution_count": 57,
   "metadata": {},
   "outputs": [
    {
     "name": "stdout",
     "output_type": "stream",
     "text": [
      "False\n"
     ]
    }
   ],
   "source": [
    "x = \"The days of Python 2 are almost over. Python 3 is the king now.\"\n",
    "\n",
    "last_three = x[:-4:-1]\n",
    "\n",
    "if last_three.isdigit():\n",
    "    print('True')\n",
    "else :\n",
    "    print('False') \n"
   ]
  },
  {
   "cell_type": "markdown",
   "metadata": {},
   "source": [
    "<p>Considering the code below, write code that prints out <strong>True!</strong> if <strong>x </strong>has at least 8 elements and the element positioned at index 6 is a floating-point number and prints out <strong>False!</strong> otherwise.</p>"
   ]
  },
  {
   "cell_type": "code",
   "execution_count": 58,
   "metadata": {},
   "outputs": [
    {
     "name": "stdout",
     "output_type": "stream",
     "text": [
      "True\n"
     ]
    }
   ],
   "source": [
    "x = [115, 115.9, 116.01, [\"length\", \"width\", \"height\"], 109, 115, 119.5, [\"length\", \"width\", \"height\"]]\n",
    "\n",
    "if len(x) >=8 and type(x[6]) == float :\n",
    "    print('True')\n",
    "else :\n",
    "    print('False')"
   ]
  },
  {
   "cell_type": "markdown",
   "metadata": {},
   "source": [
    "<p>Considering the code below, write code that prints out <strong>True!</strong> if the second string of the first list in <strong>x </strong>ends with the letter <strong>h </strong>and the first string of the second list in <strong>x </strong>also ends with the letter <strong>h</strong>, and prints out <strong>False!</strong> otherwise.</p>"
   ]
  },
  {
   "cell_type": "markdown",
   "metadata": {},
   "source": [
    "#####!!!!!!!!!!!!ÖNEMLI YER!!!!!!!!!!!!"
   ]
  },
  {
   "cell_type": "code",
   "execution_count": 59,
   "metadata": {},
   "outputs": [
    {
     "name": "stdout",
     "output_type": "stream",
     "text": [
      "Ilk Liste Konum :  3\n",
      "109,115,119.5,25,32,['length', 'width', 'height'],\n",
      "List 2 Konum :  9\n",
      "True\n"
     ]
    }
   ],
   "source": [
    "x = [115, 115.9, 116.01, [\"length\", \"width\", \"height\"], 109, 115, 119.5, 25,32, [\"length\", \"width\", \"height\"]]\n",
    "\n",
    "for i in x :\n",
    "    if type(i) == list :\n",
    "        first_list = i\n",
    "        konum_ilk_list = x.index(i)\n",
    "\n",
    "print('Ilk Liste Konum : ', konum_ilk_list)\n",
    "\n",
    "\n",
    "for a in x[konum_ilk_list + 1:] :\n",
    "    print(a,end = ',')\n",
    "    if type(a) == list :\n",
    "        list_2 = a \n",
    "        konum_list_2 = x[konum_ilk_list+1:].index(a)\n",
    "        break\n",
    "print('\\nList 2 Konum : ',konum_list_2 + konum_ilk_list + 1)\n",
    "\n",
    "if x[3][1].endswith('h') and x[9][0][-1] == 'h' :\n",
    "    print(True)\n",
    "\n",
    "else :\n",
    "    print(False)\n"
   ]
  },
  {
   "cell_type": "markdown",
   "metadata": {},
   "source": [
    "<p>Considering the code below, write code that prints out <strong>True!</strong> if one of the following two conditions are satisfied and prints out <strong>False!</strong> otherwise.</p>\n",
    "<p>the third string of the first list in <strong>x </strong>ends with the letter <strong>h </strong></p>\n",
    "<p>the second string of the second list in <strong>x </strong>also ends with the letter <strong>h</strong></p>"
   ]
  },
  {
   "cell_type": "code",
   "execution_count": 60,
   "metadata": {},
   "outputs": [],
   "source": [
    "x = [115, 115.9, 116.01, [\"length\", \"width\", \"height\"], 109, 115, 119.5, [\"length\", \"width\", \"height\"]]\n",
    "\n"
   ]
  },
  {
   "cell_type": "markdown",
   "metadata": {},
   "source": [
    "<p>Considering the code below, write code that prints out <strong>True!</strong> if the largest value among the first 3 elements of the list is less than or equal to the smallest value among the next 3 elements of the list. Otherwise, print out <strong>False!</strong></p>\n",
    "<p><strong><em>Hint!</em></strong><em> Use the appropriate slices to make the comparison.</em></p>"
   ]
  },
  {
   "cell_type": "code",
   "execution_count": 61,
   "metadata": {},
   "outputs": [],
   "source": [
    "x = [115, 115.9, 116.01, 109, 115, 119.5, [\"length\", \"width\", \"height\"]]\n",
    "\n"
   ]
  },
  {
   "cell_type": "markdown",
   "metadata": {},
   "source": [
    "<p>Considering the code below, write code that prints out <strong>True!</strong> if <strong>115 </strong>appears at least once inside the list or if it is the first element in the list. Otherwise, print out <strong>False!</strong></p>\n",
    "<p><strong><em>Hint!</em></strong><em> Use the appropriate method to check if </em><strong><em>115 </em></strong><em>is the first element in the list.</em></p>"
   ]
  },
  {
   "cell_type": "code",
   "execution_count": 62,
   "metadata": {},
   "outputs": [
    {
     "name": "stdout",
     "output_type": "stream",
     "text": [
      "True\n"
     ]
    }
   ],
   "source": [
    "x = [115, 115.9, 116.01, 109, 115, 119.5, [\"length\", \"width\", \"height\"]]\n",
    "\n",
    "if 115 in x and x[0] == 115 :\n",
    "    print('True')"
   ]
  },
  {
   "cell_type": "markdown",
   "metadata": {},
   "source": [
    "<p>Considering the code below, write code that prints out <strong>True!</strong> if the value associated with key number <strong>5 </strong>is <strong>Perl </strong>or the number of key-value pairs in the dictionary divided by 5 returns a remainder less than 2. Otherwise, print out <strong>False!</strong></p>"
   ]
  },
  {
   "cell_type": "code",
   "execution_count": 63,
   "metadata": {},
   "outputs": [
    {
     "name": "stdout",
     "output_type": "stream",
     "text": [
      "True\n"
     ]
    }
   ],
   "source": [
    "x = {1: \"Python\", 2: \"Java\", 3: \"Javascript\", 4: \"Ruby\", 5: \"Perl\", 6: \"C#\", 7: \"C++\"}\n",
    "\n",
    "if len(x) % 5 < 2 or x[5] == 'Perl' :\n",
    "    print('True')\n"
   ]
  },
  {
   "cell_type": "markdown",
   "metadata": {},
   "source": [
    "<p>Considering the code below, write code that prints out <strong>True!</strong> if <strong>3 </strong>is a key in the dictionary<strong> </strong>and the smallest value (alphabetically) in the dictionary is <strong>C#</strong>. Otherwise, print out <strong>False!</strong></p>"
   ]
  },
  {
   "cell_type": "code",
   "execution_count": 64,
   "metadata": {},
   "outputs": [
    {
     "name": "stdout",
     "output_type": "stream",
     "text": [
      "True\n"
     ]
    }
   ],
   "source": [
    "x = {1: \"Python\", 2: \"Java\", 3: \"Javascript\", 4: \"Ruby\", 5: \"Perl\", 6: \"C#\", 7: \"C++\"}\n",
    "\n",
    "degerler = list(x.values())\n",
    "degerler.sort()\n",
    "if 3 in x.keys() and degerler[0] == 'C#' :\n",
    "    print('True')\n",
    "else : \n",
    "    print('False')"
   ]
  },
  {
   "cell_type": "markdown",
   "metadata": {},
   "source": [
    "<p>Considering the code below, write code that prints out <strong>True!</strong> if the last character of the largest (alphabetically) value in the dictionary is <strong>n</strong>. Otherwise, print out <strong>False!</strong></p>"
   ]
  },
  {
   "cell_type": "code",
   "execution_count": 65,
   "metadata": {},
   "outputs": [
    {
     "name": "stdout",
     "output_type": "stream",
     "text": [
      "Ruby\n",
      "False\n"
     ]
    }
   ],
   "source": [
    "x = {1: \"Python\", 2: \"Java\", 3: \"Javascript\", 4: \"Ruby\", 5: \"Perl\", 6: \"C#\", 7: \"C++\"}\n",
    "values = list(x.values())\n",
    "print(max(values))\n",
    "if max(values[-1]) == 'n' :\n",
    "    print(True)\n",
    "else :\n",
    "    print(False)"
   ]
  },
  {
   "cell_type": "markdown",
   "metadata": {},
   "source": [
    "<p>Considering the code below, write code that prints out <strong>True!</strong> if the largest key in the dictionary divided by the second largest key in the dictionary returns a remainder equal to the smallest key in the dictionary. Otherwise, print out <strong>False!</strong></p>"
   ]
  },
  {
   "cell_type": "code",
   "execution_count": 66,
   "metadata": {},
   "outputs": [
    {
     "name": "stdout",
     "output_type": "stream",
     "text": [
      "True\n"
     ]
    }
   ],
   "source": [
    "x = {1: \"Python\", 2: \"Java\", 3: \"Javascript\", 4: \"Ruby\", 5: \"Perl\", 6: \"C#\", 7: \"C++\"}\n",
    "\n",
    "anahtarlar = list(x.keys())\n",
    "anahtarlar.sort()\n",
    "\n",
    "if anahtarlar[-1] % anahtarlar[-2] == anahtarlar[0] :\n",
    "    print('True')"
   ]
  },
  {
   "cell_type": "markdown",
   "metadata": {},
   "source": [
    "<p>Considering the code below, write code that prints out <strong>True!</strong> if the sum of all the keys in the dictionary is less than the number of characters of the string obtained by concatenating the values associated with the first 5 keys in the dictionary. Otherwise, print out <strong>False!</strong></p>"
   ]
  },
  {
   "cell_type": "code",
   "execution_count": 67,
   "metadata": {},
   "outputs": [
    {
     "name": "stdout",
     "output_type": "stream",
     "text": [
      "True\n"
     ]
    }
   ],
   "source": [
    "x = {1: \"Python\", 2: \"Java\", 3: \"Javascript\", 4: \"Ruby\", 5: \"Perl\", 6: \"C#\", 7: \"C++\"}\n",
    "\n",
    "degerler1 = list(x.values())\n",
    "a = len(''.join(degerler1))\n",
    "\n",
    "anahtarlar = x.keys()\n",
    "\n",
    "if sum(anahtarlar) < a :\n",
    "    print('True')\n",
    "\n"
   ]
  },
  {
   "cell_type": "code",
   "execution_count": 68,
   "metadata": {},
   "outputs": [
    {
     "name": "stdout",
     "output_type": "stream",
     "text": [
      "A-b-c\n"
     ]
    }
   ],
   "source": [
    "liste = ['A', 'b', 'c']\n",
    "\n",
    "a = '-'.join(liste)\n",
    "print(a)"
   ]
  },
  {
   "cell_type": "markdown",
   "metadata": {},
   "source": [
    "<p>Considering the code below, write code that prints out <strong>True!</strong> if the 3rd element of the first range is less than 2, prints out <strong>False!</strong> if the 5th element of the first range is 5, and prints out <strong>None!</strong> otherwise.</p>"
   ]
  },
  {
   "cell_type": "code",
   "execution_count": 69,
   "metadata": {},
   "outputs": [
    {
     "name": "stdout",
     "output_type": "stream",
     "text": [
      "None\n"
     ]
    }
   ],
   "source": [
    "x = [list(range(5)), list(range(5,9)), list(range(1,10,3))]\n",
    "\n",
    "if x[0][2] < 2 :\n",
    "    print(True)\n",
    "elif x[0][4] == 5 :\n",
    "    print(True)\n",
    "else:\n",
    "    print(None)"
   ]
  },
  {
   "cell_type": "markdown",
   "metadata": {},
   "source": [
    "<p>Considering the code below, write code that prints out <strong>True!</strong> if the 3rd element of the 3rd range is less than 6, prints out <strong>False!</strong> if the 1st element of the second range is 5, and prints out <strong>None!</strong> otherwise.</p>"
   ]
  },
  {
   "cell_type": "code",
   "execution_count": 70,
   "metadata": {},
   "outputs": [
    {
     "name": "stdout",
     "output_type": "stream",
     "text": [
      "False\n"
     ]
    }
   ],
   "source": [
    "x = [list(range(5)), list(range(5,9)), list(range(1,10,3))]\n",
    "\n",
    "if x[2][2] < 6 :\n",
    "    print(True)\n",
    "elif x[1][0]  == 5 :\n",
    "    print(False)\n",
    "\n",
    "else :\n",
    "    print(None)\n"
   ]
  },
  {
   "cell_type": "markdown",
   "metadata": {},
   "source": [
    "<p>Considering the code below, write code that prints out <strong>True!</strong> if the last element of the first range is greater than 3, prints out <strong>False!</strong> if the last element of the second range is less than 9, and prints out <strong>None!</strong> otherwise.</p>"
   ]
  },
  {
   "cell_type": "code",
   "execution_count": 71,
   "metadata": {},
   "outputs": [
    {
     "name": "stdout",
     "output_type": "stream",
     "text": [
      "True\n"
     ]
    }
   ],
   "source": [
    "x = [list(range(5)), list(range(5,9)), list(range(1,10,3))]\n",
    "\n",
    "if x[0][-1] > 3 :\n",
    "    print(True)\n",
    "\n",
    "elif x[1][-1] < 9 :\n",
    "    print(False)\n",
    "\n",
    "else :\n",
    "    print(None)"
   ]
  },
  {
   "cell_type": "markdown",
   "metadata": {},
   "source": [
    "<p>Considering the code below, write code that prints out <strong>True!</strong> if the length of the first range is greater than or equal to 5, prints out <strong>False!</strong> if the length of the second range is 4, and prints out <strong>None!</strong> otherwise.</p>\n"
   ]
  },
  {
   "cell_type": "code",
   "execution_count": 72,
   "metadata": {},
   "outputs": [
    {
     "name": "stdout",
     "output_type": "stream",
     "text": [
      "True\n"
     ]
    }
   ],
   "source": [
    "x = [list(range(5)), list(range(5,9)), list(range(1,10,3))]\n",
    "if len(x[0]) >= 5 :\n",
    "    print(True)\n",
    "\n"
   ]
  },
  {
   "cell_type": "markdown",
   "metadata": {},
   "source": [
    "<p>Considering the code below, write code that prints out <strong>True!</strong> if the sum of all the elements of the first range is greater than the sum of all the elements of the third range, prints out <strong>False!</strong> if the largest element of the second range is greater than the largest element of the third range, and prints out <strong>None!</strong> otherwise.</p>"
   ]
  },
  {
   "cell_type": "code",
   "execution_count": 73,
   "metadata": {},
   "outputs": [
    {
     "name": "stdout",
     "output_type": "stream",
     "text": [
      "False\n",
      "10 ---- 12\n"
     ]
    }
   ],
   "source": [
    "x = [list(range(5)), list(range(5,9)), list(range(1,10,3))]\n",
    "\n",
    "if sum(x[0]) > sum(x[2]) :\n",
    "    print(True)\n",
    "else :\n",
    "    print(False)\n",
    "\n",
    "print(sum(x[0]),'----', sum(x[2]))"
   ]
  },
  {
   "cell_type": "markdown",
   "metadata": {},
   "source": [
    "<p>Considering the code below, write code that prints out <strong>True!</strong> if the largest element of the first range minus the second element of the 3rd range is equal to the first element of the first range, prints out <strong>False!</strong> if the length of the first range minus the length of the 2nd range is equal to the first element of the 3rd range, prints out <strong>Maybe!</strong> if the sum of all the elements of the 3rd range divided by 2 returns a remainder of 0, and prints out <strong>None!</strong> otherwise.</p>"
   ]
  },
  {
   "cell_type": "code",
   "execution_count": 74,
   "metadata": {},
   "outputs": [
    {
     "ename": "SyntaxError",
     "evalue": "invalid syntax (4265853630.py, line 5)",
     "output_type": "error",
     "traceback": [
      "\u001b[0;36m  Input \u001b[0;32mIn [74]\u001b[0;36m\u001b[0m\n\u001b[0;31m    elif:\u001b[0m\n\u001b[0m        ^\u001b[0m\n\u001b[0;31mSyntaxError\u001b[0m\u001b[0;31m:\u001b[0m invalid syntax\n"
     ]
    }
   ],
   "source": [
    "x = [list(range(5)), list(range(5,9)), list(range(1,10,3))]\n",
    "print(x)\n",
    "if max(x[0]) - x[2][1] == x[0][0] :\n",
    "    print(True)\n",
    "elif:\n",
    "    print(False)\n",
    "elif len(x[0]) - len(x[1]) == x[2][0]:\n",
    "    print(True)\n",
    "else :          \n",
    "    print(False)\n"
   ]
  },
  {
   "cell_type": "markdown",
   "metadata": {},
   "source": [
    "<p>Considering the code below, write code that prints out <strong>True!</strong> if the sum of the last 3 elements of the first range plus the sum of the last 3 elements of the 3rd range is equal to the sum of the last 3 elements of the 2nd range, and prints out <strong>False!</strong> if the length of the first range times 2 is less than the sum of all the elements of the 3rd range.</p>"
   ]
  },
  {
   "cell_type": "code",
   "execution_count": null,
   "metadata": {},
   "outputs": [
    {
     "name": "stdout",
     "output_type": "stream",
     "text": [
      "True\n"
     ]
    }
   ],
   "source": [
    "x = [list(range(5)), list(range(5,9)), list(range(1,10,3))]\n",
    "\n",
    "if sum(x[0]) < sum(x[1]) :\n",
    "    print(True)\n",
    "else : \n",
    "    print('False')"
   ]
  },
  {
   "cell_type": "markdown",
   "metadata": {},
   "source": [
    "<p>Considering the code below, write code that prints out <strong>True!</strong> if the 2nd character of the value at key 1 is also present in the value at key 4, and prints out <strong>False!</strong> otherwise.</p>"
   ]
  },
  {
   "cell_type": "code",
   "execution_count": null,
   "metadata": {},
   "outputs": [
    {
     "name": "stdout",
     "output_type": "stream",
     "text": [
      "True\n"
     ]
    }
   ],
   "source": [
    "x = {1: \"Python\", 2: \"Java\", 3: \"Javascript\", 4: \"Ruby\", 5: \"Perl\", 6: \"C#\", 7: \"C++\"}\n",
    "\n",
    "a = x[1][1]\n",
    "if a in x[4] :\n",
    "    print(True)\n",
    "else :\n",
    "    print(False)"
   ]
  },
  {
   "cell_type": "markdown",
   "metadata": {},
   "source": [
    "<p>Considering the code below, write code that prints out <strong>True!</strong> if the second to last character of the value at key 3 is the first character of the value at key 5, and prints out <strong>False!</strong> otherwise.</p>"
   ]
  },
  {
   "cell_type": "code",
   "execution_count": null,
   "metadata": {},
   "outputs": [
    {
     "name": "stdout",
     "output_type": "stream",
     "text": [
      "False\n"
     ]
    }
   ],
   "source": [
    "x = {1: \"Python\", 2: \"Java\", 3: \"Javascript\", 4: \"Ruby\", 5: \"Perl\", 6: \"C#\", 7: \"C++\"}\n",
    "\n",
    "if x[3][-2] == x[5][0] :\n",
    "    print(True)\n",
    "else :\n",
    "    print(False)"
   ]
  },
  {
   "cell_type": "markdown",
   "metadata": {},
   "source": [
    "<p>Considering the code below, write code that prints out <strong>True!</strong> if the number of characters of the smallest value in the dictionary is equal to the number of occurrences of letter <strong>a </strong>in the value at key 3, and prints out <strong>False!</strong> otherwise.</p>"
   ]
  },
  {
   "cell_type": "code",
   "execution_count": 84,
   "metadata": {},
   "outputs": [
    {
     "name": "stdout",
     "output_type": "stream",
     "text": [
      "['C#', 'C++', 'Java', 'Javascript', 'Perl', 'Python', 'Ruby']\n",
      "Smallest Value in this dictionary : C#\n",
      "True\n"
     ]
    }
   ],
   "source": [
    "x = {1: \"Python\", 2: \"Java\", 3: \"Javascript\", 4: \"Ruby\", 5: \"Perl\", 6: \"C#\", 7: \"C++\"}\n",
    "a = sorted(x.values())\n",
    "print(a)\n",
    "smallest = min(x.values())\n",
    "print(f'Smallest Value in this dictionary : {smallest}')\n",
    "if len(smallest) == x[3].count('a') :\n",
    "    print(True)\n",
    "else :\n",
    "    print(None)"
   ]
  },
  {
   "cell_type": "markdown",
   "metadata": {},
   "source": []
  }
 ],
 "metadata": {
  "interpreter": {
   "hash": "98590ff4fe04c8543246b2a01debd3de3c5ca9b666f43f1fa87d5110c692004c"
  },
  "kernelspec": {
   "display_name": "Python 3.10.1 64-bit",
   "language": "python",
   "name": "python3"
  },
  "language_info": {
   "codemirror_mode": {
    "name": "ipython",
    "version": 3
   },
   "file_extension": ".py",
   "mimetype": "text/x-python",
   "name": "python",
   "nbconvert_exporter": "python",
   "pygments_lexer": "ipython3",
   "version": "3.10.4"
  },
  "orig_nbformat": 4,
  "vscode": {
   "interpreter": {
    "hash": "08e595c52ca3b9470036b1110e67b559e55f367cabc363f2e28d35631ed95060"
   }
  }
 },
 "nbformat": 4,
 "nbformat_minor": 2
}
