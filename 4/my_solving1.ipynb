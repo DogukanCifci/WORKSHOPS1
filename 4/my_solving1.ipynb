{
 "cells": [
  {
   "cell_type": "markdown",
   "metadata": {},
   "source": [
    "### Problem 1\n",
    "\n",
    "Get **word**, **seperator** and **repetition** values from the user and print the word on the screen according to the given values. \n",
    "\n",
    "Ex: word = ali sep = / repetition = 3 ----> ali/ali/ali"
   ]
  },
  {
   "cell_type": "code",
   "execution_count": 5,
   "metadata": {},
   "outputs": [
    {
     "name": "stdout",
     "output_type": "stream",
     "text": [
      "merhaba-merhaba-merhaba-merhaba\n"
     ]
    }
   ],
   "source": [
    "word = input('word')\n",
    "seperator = input('seperator')\n",
    "repetition = int(input('repetition'))\n",
    "\n",
    "a = (word + seperator) * repetition\n",
    "print(a[:len(a)-1])     #son karakteri sildirdi\n",
    "\n",
    "\n",
    "###veya\n",
    "result = (word + seperator) * (repetition -1) + word \n"
   ]
  },
  {
   "cell_type": "markdown",
   "metadata": {},
   "source": [
    "### Problem 2\n",
    "\n",
    "Get a sitring and an integer input from the user and get the output shown as in the example.\n",
    "\n",
    "Ex: word = Clarusway n = 3 OUTPUT = waywayway"
   ]
  },
  {
   "cell_type": "code",
   "execution_count": 9,
   "metadata": {},
   "outputs": [
    {
     "name": "stdout",
     "output_type": "stream",
     "text": [
      "rhabarhabarhabarhabarhaba\n"
     ]
    }
   ],
   "source": [
    "word = input('Kelime : ')\n",
    "\n",
    "n = int(input('son kac harf : '))\n",
    "\n",
    "kelime = word[-(n):] \n",
    "a = kelime * n \n",
    "print(a)\n",
    "\n"
   ]
  },
  {
   "cell_type": "markdown",
   "metadata": {},
   "source": [
    "### Problem 3\n",
    "\n",
    "Get a number from the user. \n",
    "\n",
    "If the number is divided by 3 print *Clarus*, if it is divided by 5 print *way*, if it is divided by both 3 and 5 print *Clarusway*. \n",
    "\n",
    "If not, print the number itself."
   ]
  },
  {
   "cell_type": "code",
   "execution_count": 18,
   "metadata": {},
   "outputs": [
    {
     "name": "stdout",
     "output_type": "stream",
     "text": [
      "29\n"
     ]
    }
   ],
   "source": [
    "sayi = input('Enter a number : ')\n",
    "\n",
    "if sayi.isdigit() :\n",
    "    sayi = int(sayi)\n",
    "    if sayi % 3 == 0 and sayi % 5 == 0 :\n",
    "        print('Clarusway')\n",
    "    elif sayi % 5 == 0 :\n",
    "        print('Clarus')\n",
    "    elif sayi % 3 == 0:\n",
    "        print('way')\n",
    "    else :\n",
    "        print(sayi)\n",
    "else :\n",
    "    print('Hatali sayi girdiniz')\n"
   ]
  },
  {
   "cell_type": "markdown",
   "metadata": {},
   "source": [
    "### Problem 4\n",
    "letters = \"abclarusxyz\"\n",
    "- get the word **clarus** in the string\n",
    "- get the word **cba**\n",
    "- print the last eight characters in reverse order"
   ]
  },
  {
   "cell_type": "code",
   "execution_count": 22,
   "metadata": {},
   "outputs": [
    {
     "name": "stdout",
     "output_type": "stream",
     "text": [
      "clarus\n"
     ]
    }
   ],
   "source": [
    "letters = 'abclarusxyz'\n",
    "a = letters[2:8]\n",
    "print(a)\n"
   ]
  },
  {
   "cell_type": "code",
   "execution_count": 21,
   "metadata": {},
   "outputs": [
    {
     "name": "stdout",
     "output_type": "stream",
     "text": [
      "cba\n"
     ]
    }
   ],
   "source": [
    "b = letters[2::-1]\n",
    "print(b)"
   ]
  },
  {
   "cell_type": "code",
   "execution_count": 23,
   "metadata": {},
   "outputs": [
    {
     "name": "stdout",
     "output_type": "stream",
     "text": [
      "zyxsural\n"
     ]
    }
   ],
   "source": [
    "c = letters[:-9:-1]\n",
    "print(c)"
   ]
  },
  {
   "cell_type": "markdown",
   "metadata": {},
   "source": [
    "### Problem 5\n",
    "\n",
    "Print **Clarusway is the best** from the elements of the rand_list list.\n",
    "\n",
    "rand_list = [1,[1, 2, \"Clarus\", [2, \"way\"]], \" is the best\"]"
   ]
  },
  {
   "cell_type": "code",
   "execution_count": 29,
   "metadata": {},
   "outputs": [
    {
     "name": "stdout",
     "output_type": "stream",
     "text": [
      "Clarusway is the best\n"
     ]
    }
   ],
   "source": [
    "rand_list = [1,[1, 2, \"Clarus\", [2, \"way\"]], \" is the best\"]\n",
    "print(rand_list[1][2] + rand_list[1][3][1] + rand_list[2])"
   ]
  },
  {
   "cell_type": "markdown",
   "metadata": {},
   "source": [
    "### Problem 6\n",
    "\n",
    "Sort the list given below in ascending order. Find the missing number from 1 to 10.\n",
    "\n",
    "num_list = [2, 3, 1, 5, 6, 4, 9, 8, 10]"
   ]
  },
  {
   "cell_type": "code",
   "execution_count": 27,
   "metadata": {},
   "outputs": [
    {
     "name": "stdout",
     "output_type": "stream",
     "text": [
      "{7}\n"
     ]
    }
   ],
   "source": [
    "num_list = [2,3,1,5,6,4,9,8,10]\n",
    "num_list=set(num_list)\n",
    "\n",
    "a = set(range(1,11))\n",
    "\n",
    "print(a.difference(num_list))\n"
   ]
  },
  {
   "cell_type": "markdown",
   "metadata": {},
   "source": [
    "### Problem 7\n",
    "\n",
    "Print the oldest person's name?"
   ]
  },
  {
   "cell_type": "code",
   "execution_count": 2,
   "metadata": {},
   "outputs": [
    {
     "name": "stdout",
     "output_type": "stream",
     "text": [
      "Emma\n",
      "Amy\n"
     ]
    }
   ],
   "source": [
    "old ={      #diger cözüme bak \n",
    "  \"Emma\": 71,\n",
    "  \"Jack\": 45,\n",
    "  \"Amy\": 15,\n",
    "  \"Ben\": 29\n",
    "}\n",
    "\n",
    "print(max(old, key=old.get))\n",
    "print(min(old, key=old.get))\n",
    "\n",
    "\n"
   ]
  },
  {
   "cell_type": "code",
   "execution_count": 9,
   "metadata": {},
   "outputs": [
    {
     "ename": "TypeError",
     "evalue": "'int' object is not callable",
     "output_type": "error",
     "traceback": [
      "\u001b[0;31m---------------------------------------------------------------------------\u001b[0m",
      "\u001b[0;31mTypeError\u001b[0m                                 Traceback (most recent call last)",
      "\u001b[1;32m/Users/dogukan/Desktop/CLARUSWAY/WORKSHOPS1/4/my_solving1.ipynb Cell 17'\u001b[0m in \u001b[0;36m<cell line: 8>\u001b[0;34m()\u001b[0m\n\u001b[1;32m      <a href='vscode-notebook-cell:/Users/dogukan/Desktop/CLARUSWAY/WORKSHOPS1/4/my_solving1.ipynb#ch0000016?line=0'>1</a>\u001b[0m old \u001b[39m=\u001b[39m{      \u001b[39m#diger cözüme bak \u001b[39;00m\n\u001b[1;32m      <a href='vscode-notebook-cell:/Users/dogukan/Desktop/CLARUSWAY/WORKSHOPS1/4/my_solving1.ipynb#ch0000016?line=1'>2</a>\u001b[0m   \u001b[39m\"\u001b[39m\u001b[39mEmma\u001b[39m\u001b[39m\"\u001b[39m: \u001b[39m71\u001b[39m,\n\u001b[1;32m      <a href='vscode-notebook-cell:/Users/dogukan/Desktop/CLARUSWAY/WORKSHOPS1/4/my_solving1.ipynb#ch0000016?line=2'>3</a>\u001b[0m   \u001b[39m\"\u001b[39m\u001b[39mJack\u001b[39m\u001b[39m\"\u001b[39m: \u001b[39m45\u001b[39m,\n\u001b[1;32m      <a href='vscode-notebook-cell:/Users/dogukan/Desktop/CLARUSWAY/WORKSHOPS1/4/my_solving1.ipynb#ch0000016?line=3'>4</a>\u001b[0m   \u001b[39m\"\u001b[39m\u001b[39mAmy\u001b[39m\u001b[39m\"\u001b[39m: \u001b[39m15\u001b[39m,\n\u001b[1;32m      <a href='vscode-notebook-cell:/Users/dogukan/Desktop/CLARUSWAY/WORKSHOPS1/4/my_solving1.ipynb#ch0000016?line=4'>5</a>\u001b[0m   \u001b[39m\"\u001b[39m\u001b[39mBen\u001b[39m\u001b[39m\"\u001b[39m: \u001b[39m29\u001b[39m\n\u001b[1;32m      <a href='vscode-notebook-cell:/Users/dogukan/Desktop/CLARUSWAY/WORKSHOPS1/4/my_solving1.ipynb#ch0000016?line=5'>6</a>\u001b[0m }\n\u001b[1;32m      <a href='vscode-notebook-cell:/Users/dogukan/Desktop/CLARUSWAY/WORKSHOPS1/4/my_solving1.ipynb#ch0000016?line=6'>7</a>\u001b[0m valuess \u001b[39m=\u001b[39m \u001b[39mlist\u001b[39m(old\u001b[39m.\u001b[39mvalues())\n\u001b[0;32m----> <a href='vscode-notebook-cell:/Users/dogukan/Desktop/CLARUSWAY/WORKSHOPS1/4/my_solving1.ipynb#ch0000016?line=7'>8</a>\u001b[0m max_values  \u001b[39m=\u001b[39m \u001b[39mmax\u001b[39;49m(valuess)\n\u001b[1;32m     <a href='vscode-notebook-cell:/Users/dogukan/Desktop/CLARUSWAY/WORKSHOPS1/4/my_solving1.ipynb#ch0000016?line=9'>10</a>\u001b[0m indis \u001b[39m=\u001b[39m \u001b[39mlist\u001b[39m(old)\u001b[39m.\u001b[39mindex(max_values)\n\u001b[1;32m     <a href='vscode-notebook-cell:/Users/dogukan/Desktop/CLARUSWAY/WORKSHOPS1/4/my_solving1.ipynb#ch0000016?line=10'>11</a>\u001b[0m \u001b[39mprint\u001b[39m(indis)\n",
      "\u001b[0;31mTypeError\u001b[0m: 'int' object is not callable"
     ]
    }
   ],
   "source": [
    "old ={      #diger cözüme bak \n",
    "  \"Emma\": 71,\n",
    "  \"Jack\": 45,\n",
    "  \"Amy\": 15,\n",
    "  \"Ben\": 29\n",
    "}\n",
    "valuess = list(old.values())\n",
    "max_values  = max(valuess)\n",
    "\n",
    "indis = list(old).index(max_values)\n",
    "print(indis)\n",
    "\n",
    "\n"
   ]
  },
  {
   "cell_type": "code",
   "execution_count": null,
   "metadata": {},
   "outputs": [],
   "source": [
    "\n"
   ]
  },
  {
   "cell_type": "markdown",
   "metadata": {},
   "source": [
    "### Problem 8\n",
    "\n",
    "Write a Python program to sum all the items in a dictionary.\n",
    "\n",
    "my_dict = {'data1':100,'data2':-54,'data3':247}"
   ]
  },
  {
   "cell_type": "code",
   "execution_count": 41,
   "metadata": {},
   "outputs": [
    {
     "name": "stdout",
     "output_type": "stream",
     "text": [
      "293\n"
     ]
    }
   ],
   "source": [
    "my_dict = {'data1':100,'data2':-54,'data3':247}\n",
    "\n",
    "degerler = list(my_dict.values())\n",
    "\n",
    "print(sum(degerler))"
   ]
  },
  {
   "cell_type": "markdown",
   "metadata": {},
   "source": [
    "### Problem 9\n",
    "\n",
    "Write a Python program to compute average of two given lists.\n",
    "\n",
    "nums1 = [1, 1, 3, 4, 4, 5, 6, 7]\n",
    "nums2 = [0, 1, 2, 3, 4, 4, 5, 7, 8]"
   ]
  },
  {
   "cell_type": "code",
   "execution_count": 45,
   "metadata": {},
   "outputs": [
    {
     "name": "stdout",
     "output_type": "stream",
     "text": [
      "3.875\n",
      "3.7777777777777777\n"
     ]
    }
   ],
   "source": [
    "nums1 = [1, 1, 3, 4, 4, 5, 6, 7]\n",
    "nums2 = [0, 1, 2, 3, 4, 4, 5, 7, 8]\n",
    "\n",
    "toplam = sum(nums1)\n",
    "a = len(nums1)\n",
    "\n",
    "avg1 = toplam / a\n",
    "print(avg1)\n",
    "avg2 = sum(nums2) / len(nums2)\n",
    "print(avg2)"
   ]
  },
  {
   "cell_type": "code",
   "execution_count": 46,
   "metadata": {},
   "outputs": [
    {
     "name": "stdout",
     "output_type": "stream",
     "text": [
      "3.826388888888889\n"
     ]
    }
   ],
   "source": [
    "print((avg1 + avg2) / 2)\n"
   ]
  }
 ],
 "metadata": {
  "interpreter": {
   "hash": "98590ff4fe04c8543246b2a01debd3de3c5ca9b666f43f1fa87d5110c692004c"
  },
  "kernelspec": {
   "display_name": "Python 3.10.1 64-bit",
   "language": "python",
   "name": "python3"
  },
  "language_info": {
   "codemirror_mode": {
    "name": "ipython",
    "version": 3
   },
   "file_extension": ".py",
   "mimetype": "text/x-python",
   "name": "python",
   "nbconvert_exporter": "python",
   "pygments_lexer": "ipython3",
   "version": "3.10.4"
  },
  "vscode": {
   "interpreter": {
    "hash": "08e595c52ca3b9470036b1110e67b559e55f367cabc363f2e28d35631ed95060"
   }
  }
 },
 "nbformat": 4,
 "nbformat_minor": 2
}
